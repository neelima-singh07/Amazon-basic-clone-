{
  "nbformat": 4,
  "nbformat_minor": 0,
  "metadata": {
    "colab": {
      "provenance": [],
      "include_colab_link": true
    },
    "kernelspec": {
      "name": "python3",
      "display_name": "Python 3"
    },
    "language_info": {
      "name": "python"
    }
  },
  "cells": [
    {
      "cell_type": "markdown",
      "metadata": {
        "id": "view-in-github",
        "colab_type": "text"
      },
      "source": [
        "<a href=\"https://colab.research.google.com/github/neelima-singh07/Amazon-basic-clone-/blob/main/IDS_notes_unit2.ipynb\" target=\"_parent\"><img src=\"https://colab.research.google.com/assets/colab-badge.svg\" alt=\"Open In Colab\"/></a>"
      ]
    },
    {
      "cell_type": "code",
      "execution_count": null,
      "metadata": {
        "id": "nsqX5Lu0yJ5T"
      },
      "outputs": [],
      "source": []
    },
    {
      "cell_type": "code",
      "source": [
        "import numpy as np\n",
        "#creating arrays using numpy\n",
        "arr1=np.array([[1,2,3],[4,5,6]])  #using np.array\n",
        "print(arr1)\n",
        "\n",
        "arr2=np.zeros((3,5))  #using zeros\n",
        "print(arr2)\n",
        "\n",
        "arr3=np.ones((4,5)); #using np.ones\n",
        "print(arr3)\n",
        "\n"
      ],
      "metadata": {
        "colab": {
          "base_uri": "https://localhost:8080/"
        },
        "id": "bNo4ixgiyOwH",
        "outputId": "0af905dc-0c77-46b3-f980-32aa2aae1ea7"
      },
      "execution_count": null,
      "outputs": [
        {
          "output_type": "stream",
          "name": "stdout",
          "text": [
            "[[1 2 3]\n",
            " [4 5 6]]\n",
            "[[0. 0. 0. 0. 0.]\n",
            " [0. 0. 0. 0. 0.]\n",
            " [0. 0. 0. 0. 0.]]\n",
            "[[1. 1. 1. 1. 1.]\n",
            " [1. 1. 1. 1. 1.]\n",
            " [1. 1. 1. 1. 1.]\n",
            " [1. 1. 1. 1. 1.]]\n"
          ]
        }
      ]
    },
    {
      "cell_type": "code",
      "source": [
        "#Numpy array manipulation\n",
        "arr1=np.array([1,2,3,4,5,6])\n",
        "print(\"orignal array\",arr1)\n",
        "#convert to 2 d array\n",
        "arr2=arr1.reshape(3,2) #using reshape\n",
        "print(\"reshaped array:\",arr2)\n",
        "\n",
        "#transpose\n",
        "arr3=arr2.transpose()\n",
        "print(\"Transposed array:\",arr3)\n",
        "\n"
      ],
      "metadata": {
        "colab": {
          "base_uri": "https://localhost:8080/"
        },
        "id": "9G8GOB4RzmeY",
        "outputId": "c12c5cd0-dae2-4c68-8d53-38632f1cd33f"
      },
      "execution_count": null,
      "outputs": [
        {
          "output_type": "stream",
          "name": "stdout",
          "text": [
            "orignal array [1 2 3 4 5 6]\n",
            "reshaped array: [[1 2]\n",
            " [3 4]\n",
            " [5 6]]\n",
            "Transposed array: [[1 3 5]\n",
            " [2 4 6]]\n"
          ]
        }
      ]
    },
    {
      "cell_type": "code",
      "source": [
        "#numpy mathematical functions\n",
        "\n",
        "#1. add two arrays\n",
        "arr1=np.array([1,2,3,45])\n",
        "arr2=np.array([67,9,54,3])\n",
        "arr_sum=np.add(arr1,arr2)\n",
        "print(arr_sum)\n",
        "\n",
        "#2. subtract\n",
        "arr3=np.array([1,2,3,45])\n",
        "arr4=np.array([67,9,54,3])\n",
        "arr_sum2=np.subtract(arr1,arr2)\n",
        "print(arr_sum2)\n",
        "\n",
        "#3. sqrt\n",
        "arr5=np.array([1,2,3,45])\n",
        "arr_sqrt=np.sqrt(arr5)\n",
        "print(arr_sqrt)\n",
        "\n"
      ],
      "metadata": {
        "colab": {
          "base_uri": "https://localhost:8080/"
        },
        "id": "yx5UEm2H0TO3",
        "outputId": "52fba1e6-6561-4b0f-8fe3-b2217f4fc05f"
      },
      "execution_count": null,
      "outputs": [
        {
          "output_type": "stream",
          "name": "stdout",
          "text": [
            "[68 11 57 48]\n",
            "[-66  -7 -51  42]\n",
            "[1.         1.41421356 1.73205081 6.70820393]\n"
          ]
        }
      ]
    },
    {
      "cell_type": "code",
      "source": [
        "#numpy stats function\n",
        "arr1=np.array([1,2,3,45])\n",
        "arr_mean=np.mean(arr1)\n",
        "print(arr_mean)\n",
        "\n",
        "arr2=np.array([1,2,3,45])\n",
        "arr_median=np.median(arr1)\n",
        "print(arr_median)\n",
        "\n",
        "arr3=np.array([1,2,3,45])\n",
        "arr_std=np.std(arr1)\n",
        "print(arr_std)\n",
        "\n",
        "arr4=np.array([1,2,3,45])\n",
        "arr_var=np.var(arr1)\n",
        "print(arr_var)\n",
        "\n",
        "arr4=np.array([1,2,3,45])\n",
        "arr_min=np.min(arr1)\n",
        "print(arr_min)\n",
        "\n",
        "arr5=np.array([1,2,3,45])\n",
        "arr_max=np.max(arr1)\n",
        "print(arr_max)\n",
        "\n",
        "#calculating mode\n",
        "from scipy import stats\n",
        "arr6=np.array([1,2,3,45,2])\n",
        "arr_mode=stats.mode(arr6)\n",
        "print(arr_mode)"
      ],
      "metadata": {
        "colab": {
          "base_uri": "https://localhost:8080/"
        },
        "id": "mkbcZmiU2oFE",
        "outputId": "0a689548-0eca-4585-bf70-b368fe1d7105"
      },
      "execution_count": null,
      "outputs": [
        {
          "output_type": "stream",
          "name": "stdout",
          "text": [
            "12.75\n",
            "2.5\n",
            "18.632968094214082\n",
            "347.1875\n",
            "1\n",
            "45\n"
          ]
        }
      ]
    },
    {
      "cell_type": "code",
      "source": [
        "#numpy input ouput load\n",
        "#save array in text file\n",
        "arr1=np.array([1,2,3,45])\n",
        "np.savetxt(\"arr1.txt\",arr1)\n",
        "\n",
        "#load array from text file\n",
        "arr2=np.loadtxt(\"arr1.txt\")\n",
        "print(arr2)"
      ],
      "metadata": {
        "id": "P6gcH7uP3XgQ",
        "colab": {
          "base_uri": "https://localhost:8080/"
        },
        "outputId": "619435b7-1a17-4dcd-a71a-caf951e78e10"
      },
      "execution_count": null,
      "outputs": [
        {
          "output_type": "stream",
          "name": "stdout",
          "text": [
            "[ 1.  2.  3. 45.]\n"
          ]
        }
      ]
    },
    {
      "cell_type": "code",
      "source": [
        "#modfying array methods\n",
        "#1.modifying array elts using index\n",
        "arr1=np.array([1,2,3,45])\n",
        "arr1[0]=100\n",
        "print(arr1)\n",
        "\n",
        "#2.modify array elts using -ve idx\n",
        "arr2=np.array([1,2,3,45])\n",
        "arr2[-1]=100\n",
        "print(arr2)\n",
        " #3. using slicing\n",
        "arr1[1:3] = [20, 30]  # Replace values at indices 1 and 2\n",
        "print(arr1)\n",
        "\n",
        "#4.Using Boolean Masking\n",
        "arr1[arr1 > 3] = 99  # Replace values greater than 3 with 99\n",
        "print(arr1)\n",
        "\n",
        "#5. using np.where()\n",
        "arr1 = np.array([1, 2, 3, 4, 5])\n",
        "arr1[np.where(arr1 > 3)] = 99  # Replace values greater than 3 with 99\n",
        "print(arr1)\n",
        "\n"
      ],
      "metadata": {
        "colab": {
          "base_uri": "https://localhost:8080/"
        },
        "id": "qRzf7wOe5HtG",
        "outputId": "2da8881c-792c-4ecb-d7fe-5c676a539287"
      },
      "execution_count": null,
      "outputs": [
        {
          "output_type": "stream",
          "name": "stdout",
          "text": [
            "[100   2   3  45]\n",
            "[  1   2   3 100]\n"
          ]
        }
      ]
    },
    {
      "cell_type": "code",
      "source": [
        "#2D matrix indexing\n",
        "arr1=np.array([[1,2,3,4],[5,6,7,8]])\n",
        "print(arr1[0,2])\n",
        "print(arr1[1,3])\n",
        "print(arr1[1,:])\n",
        "print(arr1[:,0])"
      ],
      "metadata": {
        "colab": {
          "base_uri": "https://localhost:8080/"
        },
        "id": "lJWb9NIO-Cos",
        "outputId": "f02bd697-7785-4974-cb56-10a00da563e9"
      },
      "execution_count": null,
      "outputs": [
        {
          "output_type": "stream",
          "name": "stdout",
          "text": [
            "3\n",
            "8\n",
            "[5 6 7 8]\n",
            "[1 5]\n"
          ]
        }
      ]
    },
    {
      "cell_type": "code",
      "source": [
        "#3d numpy indexing\n",
        "arr1=np.array([[[1,2,3],[4,5,6],[7,8,9]]])\n",
        "print(arr1)\n",
        "print()\n",
        "print(arr1.shape)\n",
        "print()\n",
        "print(arr1[arr1>3])\n",
        "print()\n",
        "print(arr1[0,1,2])\n",
        "print()\n",
        "print(arr1[0,2,:])\n",
        "print(arr1[0, :, :]) #complete array\n",
        "print()\n",
        "#array 2\n",
        "\n",
        "arr2=np.array([\n",
        "    [[1,2,3],\n",
        "     [4,5,6]],\n",
        "    [[7,8,9],\n",
        "     [10,11,12]]\n",
        "])\n",
        "print(arr2)\n",
        "print()\n",
        "print(arr2.shape)\n"
      ],
      "metadata": {
        "colab": {
          "base_uri": "https://localhost:8080/"
        },
        "id": "VnLdy8zF_3Gw",
        "outputId": "a1173de0-58e4-466f-e470-a2abf3167995"
      },
      "execution_count": null,
      "outputs": [
        {
          "output_type": "stream",
          "name": "stdout",
          "text": [
            "[[[1 2 3]\n",
            "  [4 5 6]\n",
            "  [7 8 9]]]\n",
            "\n",
            "(1, 3, 3)\n",
            "\n",
            "[4 5 6 7 8 9]\n",
            "\n",
            "6\n",
            "\n",
            "[7 8 9]\n",
            "[[1 2 3]\n",
            " [4 5 6]\n",
            " [7 8 9]]\n",
            "\n",
            "[[[ 1  2  3]\n",
            "  [ 4  5  6]]\n",
            "\n",
            " [[ 7  8  9]\n",
            "  [10 11 12]]]\n",
            "\n",
            "(2, 2, 3)\n"
          ]
        }
      ]
    },
    {
      "cell_type": "code",
      "source": [
        "#slicing in arrray\n",
        "#start,stop,step\n",
        "#1. 1d array\n",
        "arr1=np.array([1,2,3,4,5,6,7,8,9])\n",
        "print(arr1[1:7:2])\n",
        "print(arr1[1:]) #no comma\n",
        "print(arr1[::-1])\n",
        "print(arr1[-1:-5:-1])\n",
        "print()\n",
        "#modify array elts using slicing\n",
        "#1. start parameter\n",
        "print(\"second case\")\n",
        "arr1=np.array([1,2,3,4,5,6,7,8,9])\n",
        "arr1[:3]=100\n",
        "print(arr1)\n",
        "#2. stop\n",
        "\n",
        "arr1=np.array([1,2,3,4,5,6,7,8,9])\n",
        "arr1[2:]=100\n",
        "print(arr1)\n",
        "\n",
        "#3 using st stop\n",
        "arr1=np.array([1,2,3,4,5,6,7,8,9])\n",
        "arr1[2:6]=100\n",
        "print(arr1)\n",
        "\n",
        "#4. using st stop step\n",
        "arr1=np.array([1,2,3,4,5,6,7,8,9])\n",
        "arr1[2:8:2]=100\n",
        "print(arr1)\n",
        "\n",
        "#negative slicing\n",
        "arr1=np.array([1,2,3,4,5,6,7,8,9])\n",
        "arr1[-3:]=100\n",
        "print(arr1)\n",
        "arr1[-3:-1]=100\n",
        "print(arr1)\n",
        "\n",
        "#2d array slicing\n",
        "\n"
      ],
      "metadata": {
        "colab": {
          "base_uri": "https://localhost:8080/"
        },
        "id": "WGECsY97FXS9",
        "outputId": "a7830abf-9dc6-4056-897b-7e06eee5c1e5"
      },
      "execution_count": null,
      "outputs": [
        {
          "output_type": "stream",
          "name": "stdout",
          "text": [
            "[2 4 6]\n",
            "[2 3 4 5 6 7 8 9]\n",
            "[9 8 7 6 5 4 3 2 1]\n",
            "[9 8 7 6]\n",
            "\n",
            "second case\n",
            "[100 100 100   4   5   6   7   8   9]\n",
            "[  1   2 100 100 100 100 100 100 100]\n",
            "[  1   2 100 100 100 100   7   8   9]\n",
            "[  1   2 100   4 100   6 100   8   9]\n",
            "[  1   2   3   4   5   6 100 100 100]\n",
            "[  1   2   3   4   5   6 100 100 100]\n"
          ]
        }
      ]
    },
    {
      "cell_type": "code",
      "source": [
        "#Arthimetic operators\n",
        "#1. add and sub\n",
        "arr1=np.array([1,2,3,4])\n",
        "arr2=np.array([5,6,7,8])\n",
        "print(arr1+arr2)\n",
        "print(arr1-arr2)\n",
        "\n",
        "#multi and divide\n",
        "print(arr1*arr2)\n",
        "print(arr1/arr2)\n",
        "\n",
        "#exponetiation and modulus\n",
        "print(arr1**arr2)\n",
        "print(arr1%arr2)"
      ],
      "metadata": {
        "colab": {
          "base_uri": "https://localhost:8080/"
        },
        "id": "VlFTUczpFXr1",
        "outputId": "b9402ce9-8fdd-42bb-aab8-96c1ea5d5cc3"
      },
      "execution_count": null,
      "outputs": [
        {
          "output_type": "stream",
          "name": "stdout",
          "text": [
            "[ 6  8 10 12]\n",
            "[-4 -4 -4 -4]\n",
            "[ 5 12 21 32]\n",
            "[0.2        0.33333333 0.42857143 0.5       ]\n",
            "[    1    64  2187 65536]\n",
            "[1 2 3 4]\n"
          ]
        }
      ]
    },
    {
      "cell_type": "code",
      "source": [
        "\n",
        "arr1=np.array([[1,2,3],[4,5,6]])\n",
        "arr2=np.array([[7,8,9],[4,5,6]])\n",
        "print(np.concatenate((arr1,arr2),axis=0))\n",
        "print(np.concatenate((arr1,arr2),axis=1))\n",
        "print(np.cumsum(arr1,axis=0))\n",
        "print(np.cumsum(arr1,axis=1))\n",
        "print(np.hstack((arr1,arr2)))\n",
        "print(np.vstack((arr1,arr2)))"
      ],
      "metadata": {
        "id": "KuYhB8pwMK4T",
        "outputId": "3c278b3e-2068-4dcd-aa01-5f361e468354",
        "colab": {
          "base_uri": "https://localhost:8080/"
        }
      },
      "execution_count": null,
      "outputs": [
        {
          "output_type": "stream",
          "name": "stdout",
          "text": [
            "[[1 2 3]\n",
            " [4 5 6]\n",
            " [7 8 9]\n",
            " [4 5 6]]\n",
            "[[1 2 3 7 8 9]\n",
            " [4 5 6 4 5 6]]\n",
            "[[1 2 3]\n",
            " [5 7 9]]\n",
            "[[ 1  3  6]\n",
            " [ 4  9 15]]\n",
            "[[1 2 3 7 8 9]\n",
            " [4 5 6 4 5 6]]\n",
            "[[1 2 3]\n",
            " [4 5 6]\n",
            " [7 8 9]\n",
            " [4 5 6]]\n"
          ]
        }
      ]
    }
  ]
}